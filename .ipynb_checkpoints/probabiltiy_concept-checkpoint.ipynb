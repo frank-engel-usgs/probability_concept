{
 "cells": [
  {
   "cell_type": "markdown",
   "metadata": {
    "deletable": true,
    "editable": true
   },
   "source": [
    "# Probability Concept Functions\n",
    "\n",
    "In this notebook, I am solving the equations of the alternative velocity profile proposed by Chiu and Hsu (2006). The data replicated here are from Chiu and others (2002).\n",
    "\n",
    "Chiu, C., & Tung, N. (2002). Maximum Velocity and Regularities in Open-Channel Flow, 128(4), 390–398.\n",
    "\n",
    "Chiu, C.-L., & Hsu, S.-M. (2006). Probabilistic approach to modeling of velocity distributions in fluid flows. Journal of Hydrology, 316(1–4), 28–42. https://doi.org/10.1016/j.jhydrol.2005.04.011"
   ]
  },
  {
   "cell_type": "code",
   "execution_count": 1,
   "metadata": {
    "collapsed": false,
    "deletable": true,
    "editable": true
   },
   "outputs": [],
   "source": [
    "import math\n",
    "import numpy as np\n",
    "\n",
    "def phi2M(phi,M=0):\n",
    "    \"\"\"Return M from a given phi\"\"\"\n",
    "    while True:\n",
    "        M += 0.01\n",
    "        fn = (math.exp(M)/(math.exp(M)-1))-(1/M)\n",
    "        if fn >= phi:\n",
    "            break\n",
    "    return M\n",
    "\n",
    "\n",
    "def uD2umax(uD,M,hD):\n",
    "    \"\"\"Return umax from surface uD velocity\"\"\"\n",
    "    umax = uD * M / math.log(1+(math.exp(M))*(1/(1-hD))*math.exp(1-(1/(1-hD))))\n",
    "    return umax\n",
    "    \n",
    "\n",
    "def umax2uprofile(umax,M,D,h,num_points_profile=20):\n",
    "    \"\"\"Return a velocity profile\"\"\"\n",
    "    yi = np.linspace(0, D, num=num_points_profile)\n",
    "    ui = np.zeros(np.size(yi))\n",
    "    for i in range(num_points_profile):\n",
    "        ui[i] = (umax/M)*math.log(1+(math.exp(M)-1)*(yi[i]/(D-h))*math.exp(1-(yi[i]/(D-h))))\n",
    "    return yi, ui\n",
    "    \n",
    "\n"
   ]
  },
  {
   "cell_type": "code",
   "execution_count": 3,
   "metadata": {
    "collapsed": false,
    "deletable": true,
    "editable": true
   },
   "outputs": [],
   "source": [
    "\"\"\"Flood test data from Chiu and others 2002\"\"\"\n",
    "\n",
    "prof1_y = [0.11278094,0.15873662,0.30859467, 0.21040516, 0.4061657, 1.0053785, 1.5130191, 1.77]\n",
    "prof1_u = [0.4406258, 0.47062486, 0.48104006, 0.50985247, 0.55949396, 0.63921696, 0.6001184, 0.5805731] \n",
    "\n",
    "prof2_y = [0.10759347, 0.1591423, 0.20515783, 0.3088873, 0.40119767, 0.5105203, 1.0122286, 1.12]\n",
    "prof2_u = [0.34027857, 0.4002674, 0.41988584, 0.4302904, 0.4210845, 0.4614788, 0.45121393, 0.43047932] \n",
    "\n",
    "prof3_y = [0.107214384, 0.15827772, 0.20389421, 0.30157164, 0.4053011, 0.5841026, 1.0046269, 1.5063086, 2.0077507, 2.5153716, 2.6]\n",
    "prof3_u = [0.40602243, 0.5502095, 0.63903207, 0.69903153, 0.70943606, 0.7002501, 0.7695513, 0.76390004, 0.7997712, 0.7641328, 0.73416567] "
   ]
  },
  {
   "cell_type": "code",
   "execution_count": 4,
   "metadata": {
    "collapsed": false,
    "deletable": true,
    "editable": true
   },
   "outputs": [
    {
     "name": "stdout",
     "output_type": "stream",
     "text": [
      "Flood 1 umax: 0.6232039459739117\n",
      "Flood 2 umax: 0.46208973259002584\n",
      "Flood 3 umax: 0.7880749864520256\n"
     ]
    },
    {
     "data": {
      "image/png": "[encoded data removed]",
      "text/plain": [
       "<matplotlib.figure.Figure at 0x2c9c1b39828>"
      ]
     },
     "metadata": {},
     "output_type": "display_data"
    }
   ],
   "source": [
    "import matplotlib.pyplot as plt\n",
    "    \n",
    "phi = 0.7 \n",
    "hD = 0.48\n",
    "M = 0\n",
    "\n",
    "\"\"\"Flood 1: 12/16/78\"\"\"\n",
    "uD1 = 0.5806\n",
    "D1 = 1.77\n",
    "h1 = 0.8496\n",
    "\n",
    "M = phi2M(0.7)\n",
    "umax = uD2umax(uD1,M,hD)\n",
    "print('Flood 1 umax: {0}'.format(umax))\n",
    "yi1,ui1 = umax2uprofile(umax,M,D1,h1)\n",
    "\n",
    "\"\"\"Flood 2: 3/1/79\"\"\"\n",
    "uD2 = 0.4305\n",
    "D2 = 1.12\n",
    "h2 = 0.5376\n",
    "\n",
    "M = phi2M(0.7)\n",
    "umax = uD2umax(uD2,M,hD)\n",
    "print('Flood 2 umax: {0}'.format(umax))\n",
    "yi2,ui2 = umax2uprofile(umax,M,D2,h2)\n",
    "\n",
    "\"\"\"Flood 3: 4/12/79\"\"\"\n",
    "uD3 = 0.7342\n",
    "D3 = 2.60\n",
    "h3 = 1.248\n",
    "\n",
    "M = phi2M(0.7)\n",
    "umax = uD2umax(uD3,M,hD)\n",
    "print('Flood 3 umax: {0}'.format(umax))\n",
    "yi3,ui3 = umax2uprofile(umax,M,D3,h3)\n",
    "\n",
    "\n",
    "\n",
    "plt.plot(ui1,yi1)\n",
    "plt.xlabel('u (m/s)')\n",
    "plt.ylabel('y (m)')\n",
    "plt.title('Simulated velocity profiles')\n",
    "plt.hold\n",
    "plt.plot(prof1_u,prof1_y,'s')\n",
    "plt.plot(ui2,yi2)\n",
    "plt.plot(prof2_u,prof2_y,'o')\n",
    "plt.plot(ui3,yi3)\n",
    "plt.plot(prof3_u,prof3_y,'^')\n",
    "plt.show()"
   ]
  }
 ],
 "metadata": {
  "kernelspec": {
   "display_name": "Python 3",
   "language": "python",
   "name": "python3"
  },
  "language_info": {
   "codemirror_mode": {
    "name": "ipython",
    "version": 3
   },
   "file_extension": ".py",
   "mimetype": "text/x-python",
   "name": "python",
   "nbconvert_exporter": "python",
   "pygments_lexer": "ipython3",
   "version": "3.5.2"
  }
 },
 "nbformat": 4,
 "nbformat_minor": 2
}
